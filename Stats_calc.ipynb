{
  "nbformat": 4,
  "nbformat_minor": 0,
  "metadata": {
    "colab": {
      "provenance": [],
      "mount_file_id": "19YfRA3gHCpb3Dhm3WapuHwozAo24fSJJ",
      "authorship_tag": "ABX9TyOer3wqHQucvm3JRwKBohZD",
      "include_colab_link": true
    },
    "kernelspec": {
      "name": "python3",
      "display_name": "Python 3"
    },
    "language_info": {
      "name": "python"
    }
  },
  "cells": [
    {
      "cell_type": "markdown",
      "metadata": {
        "id": "view-in-github",
        "colab_type": "text"
      },
      "source": [
        "<a href=\"https://colab.research.google.com/github/dexter1998wild/Stats/blob/main/Stats_calc.ipynb\" target=\"_parent\"><img src=\"https://colab.research.google.com/assets/colab-badge.svg\" alt=\"Open In Colab\"/></a>"
      ]
    },
    {
      "cell_type": "markdown",
      "source": [
        "# **President_Poundcake Stats**"
      ],
      "metadata": {
        "id": "slniCWzBwAhz"
      }
    },
    {
      "cell_type": "code",
      "source": [
        "from datetime import timedelta\n",
        "from google.colab import auth\n",
        "auth.authenticate_user()\n",
        "import gspread\n",
        "import pandas as pd\n",
        "from google.auth import default\n",
        "creds, _ = default()\n",
        "\n",
        "gc = gspread.authorize(creds)\n",
        "gsheets = gc.open_by_url('https://docs.google.com/spreadsheets/d/1qjjFyZVvxz5rFM2ONFDtkEW3E9zdaNNqJJFUEW3M2tM/edit#gid=2099782212')\n",
        "sheets = gsheets.worksheet('2023').get_all_values()\n",
        "df = pd.DataFrame(sheets[1:], columns=sheets[0])\n",
        "\n",
        "times1 = list(df['TIME (RTA)'])\n",
        "times=[]\n",
        "for i in range(len(times1)):\n",
        "  if times1[i]=='' or i==100:\n",
        "    continue\n",
        "  if i==19:\n",
        "    times.append('0:51:57')\n",
        "  else:\n",
        "    times.append(times1[i].split('.')[0])\n",
        "  if len(times[i].split(':'))==2:\n",
        "    times[i]='0:'+times[i]\n",
        "    \n",
        "#for i in range(len(times)):\n",
        "k=sum(map(lambda f: int(f[0])*3600 + int(f[1])*60 + int(f[2]), map(lambda f: f.split(':'), times)))\n",
        "\n",
        "print('Average RTA for '+str(len(times))+' runs : '+ str(timedelta(seconds=k/len(times))))\n",
        "igt_times1=list(df['TIME (IGT)'])\n",
        "times=[]\n",
        "#print(igt_times1)\n",
        "for i in range(len(igt_times1)):\n",
        "  if igt_times1[i]=='' or i==100:\n",
        "    continue\n",
        "  if i==0:\n",
        "    times.append('0:51:57')\n",
        "  else:\n",
        "    times.append(igt_times1[i].split('.')[0])\n",
        "  \n",
        "  if len(times[i].split(':'))==2:\n",
        "    times[i]='0:'+times[i]\n",
        "\n",
        "\n",
        "#for i in range(len(times)):\n",
        "k=sum(map(lambda f: int(f[0])*3600 + int(f[1])*60 + int(f[2]), map(lambda f: f.split(':'), times)))\n",
        "\n",
        "deaths=list(df['DEATHS'])\n",
        "rods=list(df['RODS'])\n",
        "blazes=list(df['BLAZES'])\n",
        "thrown=list(df['EYES THROWN'])\n",
        "broken=list(df['EYES BROKEN'])\n",
        "death_count=0\n",
        "rod_count=0\n",
        "blaze_count=0\n",
        "thrown_count=0\n",
        "broken_count=0\n",
        "for i in range(len(deaths)):\n",
        "  if deaths[i]=='' or rods[i]=='' or i==100:\n",
        "    continue\n",
        "  death_count+=int(deaths[i])\n",
        "  rod_count+=int(rods[i])\n",
        "  blaze_count+=int(blazes[i])\n",
        "  thrown_count+=int(thrown[i])\n",
        "  broken_count+=int(broken[i])\n",
        "print('Average IGT for '+str(len(times))+' runs : '+ str(timedelta(seconds=k/len(times))))\n",
        "print(' || Average Deaths for '+str(len(times))+' runs : '+ str(death_count/len(times)))\n",
        "print(' || Average Blaze rates for '+str(len(times))+' runs : '+ str(round((rod_count/blaze_count),2)*100)+'%')\n",
        "print(' || Average Eye break rate for '+str(len(times))+' runs : '+ str(round((broken_count/thrown_count),2)*100)+'%')\n",
        "#print(len(times))"
      ],
      "metadata": {
        "colab": {
          "base_uri": "https://localhost:8080/"
        },
        "id": "Dy4Ch6r-0GnJ",
        "outputId": "40a43807-b9bc-4137-a0d8-e2896127796b"
      },
      "execution_count": 21,
      "outputs": [
        {
          "output_type": "stream",
          "name": "stdout",
          "text": [
            "Average RTA for 45 runs : 1:09:24.400000\n",
            "Average IGT for 45 runs : 0:37:49.111111\n",
            " || Average Deaths for 45 runs : 0.5111111111111111\n",
            " || Average Blaze rates for 45 runs : 51.0%\n",
            " || Average Eye break rate for 45 runs : 17.0%\n"
          ]
        }
      ]
    },
    {
      "cell_type": "markdown",
      "source": [
        "# **PodX12 Stats**"
      ],
      "metadata": {
        "id": "adhDqlAywLcR"
      }
    },
    {
      "cell_type": "code",
      "source": [
        "from datetime import timedelta\n",
        "from google.colab import auth\n",
        "auth.authenticate_user()\n",
        "import gspread\n",
        "import pandas as pd\n",
        "from google.auth import default\n",
        "creds, _ = default()\n",
        "\n",
        "gc = gspread.authorize(creds)\n",
        "gsheets = gc.open_by_url('https://docs.google.com/spreadsheets/d/1vCcApZK2EVmAmpxkFGzFs9Ys76zHXCa61U5gkSzZNWs/edit#gid=0')\n",
        "sheets = gsheets.worksheet('Sheet1').get_all_values()\n",
        "df = pd.DataFrame(sheets[1:], columns=sheets[0])\n",
        "#print(df)\n",
        "#times1 = list(df['TIME (RTA)'])\n",
        "#times=[]\n",
        "#for i in range(len(times1)):\n",
        "#  if times1[i]=='':\n",
        "#    continue\n",
        "#  if i==19:\n",
        "#    times.append('0:51:57')\n",
        "#  else:\n",
        "#    times.append(times1[i].split('.')[0])\n",
        "\n",
        "#  if len(times[i].split(':'))==2:\n",
        "#    times[i]='0:'+times[i]\n",
        "    \n",
        "#for i in range(len(times)):\n",
        "#  k=sum(map(lambda f: int(f[0])*3600 + int(f[1])*60 + int(f[2]), map(lambda f: f.split(':'), times)))\n",
        "\n",
        "#print('Average RTA for '+str(len(times))+' runs : '+ str(timedelta(seconds=k/len(times))))\n",
        "igt_times1=list(df['Time'])\n",
        "#print(igt_times1)\n",
        "times=[]\n",
        "for i in range(len(igt_times1)):\n",
        "  if igt_times1[i]=='':\n",
        "    continue\n",
        "  if i==0:\n",
        "    #times.append('0:51:57')\n",
        "    continue\n",
        "  else:\n",
        "    times.append(igt_times1[i])\n",
        "   # print(times[i].split(':'))\n",
        "for i in range(len(times)):\n",
        "  if len(times[i].split(':'))<=2:\n",
        "    times[i]='0:'+times[i]\n",
        "\n",
        "\n",
        "\n",
        "k=sum(map(lambda f: int(f[0])*3600 + int(f[1])*60 + int(f[2]), map(lambda f: f.split(':'), times)))\n",
        "print('Average IGT for '+str(len(times))+' runs : '+ str(timedelta(seconds=k/len(times))))"
      ],
      "metadata": {
        "colab": {
          "base_uri": "https://localhost:8080/"
        },
        "id": "Tq8aU8xNeWU0",
        "outputId": "3c2be83f-b47f-4782-ce7f-8f22b02abd92"
      },
      "execution_count": 28,
      "outputs": [
        {
          "output_type": "stream",
          "name": "stdout",
          "text": [
            "Average IGT for 47 runs : 0:17:49.829787\n"
          ]
        }
      ]
    },
    {
      "cell_type": "code",
      "source": [
        "#@title Speedrunathon Stats\n",
        "from datetime import timedelta\n",
        "from google.colab import auth\n",
        "auth.authenticate_user()\n",
        "import gspread\n",
        "import pandas as pd\n",
        "from google.auth import default\n",
        "creds, _ = default()\n",
        "\n",
        "gc = gspread.authorize(creds)\n",
        "gsheets = gc.open_by_url('https://docs.google.com/spreadsheets/d/1byTE61ncZE8wW4rI4nMiBiAQaHSjDbNqsU0GfMcncGM/edit#gid=0')\n",
        "sheets = gsheets.worksheet('Runs').get_all_values()\n",
        "df = pd.DataFrame(sheets[1:], columns=sheets[0])\n",
        "#print(df)\n",
        "#times1 = list(df['TIME (RTA)'])\n",
        "#times=[]\n",
        "#for i in range(len(times1)):\n",
        "#  if times1[i]=='':\n",
        "#    continue\n",
        "#  if i==19:\n",
        "#    times.append('0:51:57')\n",
        "#  else:\n",
        "#    times.append(times1[i].split('.')[0])\n",
        "\n",
        "#  if len(times[i].split(':'))==2:\n",
        "#    times[i]='0:'+times[i]\n",
        "    \n",
        "#for i in range(len(times)):\n",
        "#  k=sum(map(lambda f: int(f[0])*3600 + int(f[1])*60 + int(f[2]), map(lambda f: f.split(':'), times)))\n",
        "\n",
        "#print('Average RTA for '+str(len(times))+' runs : '+ str(timedelta(seconds=k/len(times))))\n",
        "igt_times1=list(df['Time'])\n",
        "#print(igt_times1)\n",
        "times=[]\n",
        "for i in range(len(igt_times1)):\n",
        "  if igt_times1[i]=='':\n",
        "    continue\n",
        "  #if i==0:\n",
        "    #times.append('0:51:57')\n",
        "    #continue\n",
        "  #else:\n",
        "  times.append(igt_times1[i])\n",
        "   # print(times[i].split(':'))\n",
        "for i in range(len(times)):\n",
        "  if len(times[i].split(':'))<=2:\n",
        "    times[i]='0:'+times[i]\n",
        "\n",
        "\n",
        "k=sum(map(lambda f: int(f[0])*3600 + int(f[1])*60 + int(f[2]), map(lambda f: f.split(':'), times)))\n",
        "print('Average IGT for '+str(len(times))+' runs : '+ str(timedelta(seconds=k/len(times))))\n",
        "\n",
        "blaze_rate=df['Blaze Rates']\n",
        "rods=0\n",
        "blazes=0\n",
        "#print(blaze_rate[112].split('/')[0])\n",
        "for i in range(len(blaze_rate)):\n",
        "  if blaze_rate[i]=='':\n",
        "    continue\n",
        "  if blaze_rate[i]=='AA':\n",
        "    continue\n",
        "  rods+=int(blaze_rate[i].split('/')[0])\n",
        "  blazes+=int(blaze_rate[i].split('/')[1])\n",
        "print('Speedrunathon rod rates: '+str(rods/blazes))"
      ],
      "metadata": {
        "colab": {
          "base_uri": "https://localhost:8080/"
        },
        "id": "EudUX1nEN8ei",
        "outputId": "cc49f436-ff5b-4d45-d1a1-a7b92c772ee6",
        "cellView": "form"
      },
      "execution_count": 27,
      "outputs": [
        {
          "output_type": "stream",
          "name": "stdout",
          "text": [
            "Average IGT for 170 runs : 0:34:16.141176\n",
            "Speedrunathon rod rates: 0.4951415293620617\n"
          ]
        }
      ]
    },
    {
      "cell_type": "code",
      "source": [
        "dates_played=df['Date']\n",
        "dates=[]\n",
        "for i in range(len(dates_played)):\n",
        "  if dates_played[i]!='':\n",
        "    dates.append([i,dates_played[i]])\n",
        "#print(dates)\n",
        "runs_per_day=[i[0] for i in dates]\n",
        "date = [i[1] for i in dates]\n",
        "#print(date)\n",
        "#print(runs_per_day)\n",
        "#runs_per_day=[1,5,11]\n",
        "for i in range(len(runs_per_day)-1):\n",
        "  times=[]\n",
        "  for j in range(runs_per_day[i],runs_per_day[i+1]):\n",
        "    #print(igt_times1[j])\n",
        "    if igt_times1[j]=='':\n",
        "      continue\n",
        "    if j==0:\n",
        "      #times.append('0:51:57')\n",
        "      continue\n",
        "    else:\n",
        "      times.append(igt_times1[j])\n",
        "  for k in range(len(times)):\n",
        "    if len(times[k].split(':'))<=2:\n",
        "      times[k]='0:'+times[k]\n",
        "\n",
        "  #print(times)\n",
        "  l=sum(map(lambda f: int(f[0])*3600 + int(f[1])*60 + int(f[2]), map(lambda f: f.split(':'), times)))\n",
        "  print('Average IGT for '+str(len(times)) +' runs on '+date[i]+' : '+ str(timedelta(seconds=l/len(times))))\n",
        "  print()\n"
      ],
      "metadata": {
        "colab": {
          "base_uri": "https://localhost:8080/"
        },
        "id": "2iUtcTojg1ra",
        "outputId": "587fa0bf-4735-4c4e-ba5e-92d3c6431b58"
      },
      "execution_count": 29,
      "outputs": [
        {
          "output_type": "stream",
          "name": "stdout",
          "text": [
            "Average IGT for 10 runs on 2023-03-21 : 0:18:32.900000\n",
            "\n",
            "Average IGT for 10 runs on 2023-03-22 : 0:18:00.400000\n",
            "\n",
            "Average IGT for 15 runs on 2023-03-23 : 0:18:20.200000\n",
            "\n",
            "Average IGT for 11 runs on 2023-03-24 : 0:16:32.454545\n",
            "\n",
            "Average IGT for 1 runs on 2023-03-26 : 0:15:29\n",
            "\n"
          ]
        }
      ]
    },
    {
      "cell_type": "code",
      "source": [
        "from statsmodels.tsa.arima.model import ARIMA\n",
        "import warnings\n",
        "warnings.simplefilter('ignore')\n",
        "#from random import random\n",
        "# contrived dataset\n",
        "data = df['Average']\n",
        "times=[]\n",
        "for i in range(len(data)):\n",
        "  if data[i]=='':\n",
        "    continue\n",
        "  #if i==0:\n",
        "    #times.append('0:51:57')\n",
        "    #continue\n",
        "  #else:\n",
        "  times.append(data[i])\n",
        "   # print(times[i].split(':'))\n",
        "for i in range(len(times)):\n",
        "  if len(times[i].split(':'))<=2:\n",
        "    times[i]='0:'+times[i]\n",
        "times=times[:-1]\n",
        "\n",
        "k=list(map(lambda f: int(f[0])*3600 + int(f[1])*60 + int(f[2]), map(lambda f: f.split(':'), times)))\n",
        "# fit model\n",
        "model = ARIMA(k, order=(1, 1, 1))\n",
        "model_fit = model.fit()\n",
        "# make prediction\n",
        "yhat = model_fit.predict(len(k), len(k), typ='levels')\n",
        "print(timedelta(seconds=yhat[0]))"
      ],
      "metadata": {
        "colab": {
          "base_uri": "https://localhost:8080/"
        },
        "id": "TI7a-1AqunVI",
        "outputId": "202f61a9-ceeb-43cc-f4cd-ad3c105482e6"
      },
      "execution_count": 31,
      "outputs": [
        {
          "output_type": "stream",
          "name": "stdout",
          "text": [
            "0:17:12.278352\n"
          ]
        }
      ]
    },
    {
      "cell_type": "code",
      "source": [
        "https://docs.google.com/spreadsheets/d/1byTE61ncZE8wW4rI4nMiBiAQaHSjDbNqsU0GfMcncGM/edit#gid=0"
      ],
      "metadata": {
        "id": "jommvS4pN3MM"
      },
      "execution_count": null,
      "outputs": []
    }
  ]
}