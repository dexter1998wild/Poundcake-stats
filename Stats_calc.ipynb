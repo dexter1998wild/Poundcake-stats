{
  "nbformat": 4,
  "nbformat_minor": 0,
  "metadata": {
    "colab": {
      "provenance": [],
      "mount_file_id": "19YfRA3gHCpb3Dhm3WapuHwozAo24fSJJ",
      "authorship_tag": "ABX9TyNWfWfTLdLAfgRIWy0bg5mH",
      "include_colab_link": true
    },
    "kernelspec": {
      "name": "python3",
      "display_name": "Python 3"
    },
    "language_info": {
      "name": "python"
    }
  },
  "cells": [
    {
      "cell_type": "markdown",
      "metadata": {
        "id": "view-in-github",
        "colab_type": "text"
      },
      "source": [
        "<a href=\"https://colab.research.google.com/github/dexter1998wild/Poundcake-stats/blob/main/Stats_calc.ipynb\" target=\"_parent\"><img src=\"https://colab.research.google.com/assets/colab-badge.svg\" alt=\"Open In Colab\"/></a>"
      ]
    },
    {
      "cell_type": "code",
      "source": [
        "from datetime import timedelta\n",
        "from google.colab import auth\n",
        "auth.authenticate_user()\n",
        "import gspread\n",
        "import pandas as pd\n",
        "from google.auth import default\n",
        "creds, _ = default()\n",
        "\n",
        "gc = gspread.authorize(creds)\n",
        "gsheets = gc.open_by_url('https://docs.google.com/spreadsheets/d/1qjjFyZVvxz5rFM2ONFDtkEW3E9zdaNNqJJFUEW3M2tM/edit#gid=2099782212')\n",
        "sheets = gsheets.worksheet('2023').get_all_values()\n",
        "df = pd.DataFrame(sheets[1:], columns=sheets[0])\n",
        "\n",
        "#times1 = ['30:48.616','0:31:20.088','0:39:39.962','1:15:59.542','0:49:29.594','0:26:31.255','0:35:34.437','0:32:41.443','0:44:17.058','1:06:52.781','0:38:12.832','0:29:18.690','0:32:09.710','0:43:24.372','0:35:30.849','0:21:12.601',\n",
        "#          '0:25:36.057','0:36:14.415','0:48:50.653','0:54:57.724','0:34:06.048','0:45:41.919','0:24:07.013','0:59:40.519']\n",
        "times1 = list(df['TIME (RTA)'])\n",
        "times=[]\n",
        "for i in range(len(times1)):\n",
        "  if times1[i]=='':\n",
        "    continue\n",
        "  if i==19:\n",
        "    times.append('0:51:57')\n",
        "  else:\n",
        "    times.append(times1[i].split('.')[0])\n",
        "\n",
        "  if len(times[i].split(':'))==2:\n",
        "    times[i]='0:'+times[i]\n",
        "    \n",
        "for i in range(len(times)):\n",
        "  k=sum(map(lambda f: int(f[0])*3600 + int(f[1])*60 + int(f[2]), map(lambda f: f.split(':'), times)))\n",
        "\n",
        "print('Average RTA for '+str(len(times))+' runs : '+ str(timedelta(seconds=k/len(times))))\n",
        "igt_times1=list(df['TIME (IGT)'])\n",
        "times=[]\n",
        "for i in range(len(igt_times1)):\n",
        "  if igt_times1[i]=='':\n",
        "    continue\n",
        "  if i==0:\n",
        "    times.append('0:51:57')\n",
        "  else:\n",
        "    times.append(igt_times1[i].split('.')[0])\n",
        "  if len(times[i].split(':'))==2:\n",
        "    times[i]='0:'+times[i]\n",
        "\n",
        "\n",
        "for i in range(len(times)):\n",
        "  k=sum(map(lambda f: int(f[0])*3600 + int(f[1])*60 + int(f[2]), map(lambda f: f.split(':'), times)))\n",
        "\n",
        "deaths=list(df['DEATHS'])\n",
        "rods=list(df['RODS'])\n",
        "blazes=list(df['BLAZES'])\n",
        "thrown=list(df['EYES THROWN'])\n",
        "broken=list(df['EYES BROKEN'])\n",
        "dc=0\n",
        "rc=0\n",
        "bc=0\n",
        "tc=0\n",
        "brc=0\n",
        "for i in range(len(deaths)):\n",
        "  if deaths[i]=='':\n",
        "    continue\n",
        "  dc+=int(deaths[i])\n",
        "  rc+=int(rods[i])\n",
        "  bc+=int(blazes[i])\n",
        "  tc+=int(thrown[i])\n",
        "  brc+=int(broken[i])\n",
        "print(' || Average IGT for '+str(len(times))+' runs : '+ str(timedelta(seconds=k/len(times))))\n",
        "print(' || Average Deaths for '+str(len(times))+' runs : '+ str(dc/len(times)))\n",
        "print(' || Average Blaze rates for '+str(len(times))+' runs : '+ str((rc/bc)/len(times)))\n",
        "print(' || Average Eye break rate for '+str(len(times))+' runs : '+ str((brc/tc)/len(times)))\n",
        "#print(len(times))"
      ],
      "metadata": {
        "colab": {
          "base_uri": "https://localhost:8080/"
        },
        "id": "Dy4Ch6r-0GnJ",
        "outputId": "44f3e580-8a9e-4fad-f617-74a4f00ff0bb"
      },
      "execution_count": 47,
      "outputs": [
        {
          "output_type": "stream",
          "name": "stdout",
          "text": [
            "Average RTA for 25 runs : 0:39:45.160000\n",
            " || Average IGT for 25 runs : 0:38:16.680000\n",
            " || Average Deaths for 25 runs : 0.6\n",
            " || Average Blaze rates for 25 runs : 0.0215015015015015\n",
            " || Average Eye break rate for 25 runs : 0.005818181818181818\n"
          ]
        }
      ]
    }
  ]
}