{
  "nbformat": 4,
  "nbformat_minor": 0,
  "metadata": {
    "colab": {
      "provenance": [],
      "mount_file_id": "19YfRA3gHCpb3Dhm3WapuHwozAo24fSJJ",
      "authorship_tag": "ABX9TyMvs9nB/80EE5MPDQ1PFVzF",
      "include_colab_link": true
    },
    "kernelspec": {
      "name": "python3",
      "display_name": "Python 3"
    },
    "language_info": {
      "name": "python"
    }
  },
  "cells": [
    {
      "cell_type": "markdown",
      "metadata": {
        "id": "view-in-github",
        "colab_type": "text"
      },
      "source": [
        "<a href=\"https://colab.research.google.com/github/dexter1998wild/Poundcake-stats/blob/main/Stats_calc.ipynb\" target=\"_parent\"><img src=\"https://colab.research.google.com/assets/colab-badge.svg\" alt=\"Open In Colab\"/></a>"
      ]
    },
    {
      "cell_type": "code",
      "source": [
        "from datetime import timedelta\n",
        "from google.colab import auth\n",
        "auth.authenticate_user()\n",
        "import gspread\n",
        "import pandas as pd\n",
        "from google.auth import default\n",
        "creds, _ = default()\n",
        "\n",
        "gc = gspread.authorize(creds)\n",
        "gsheets = gc.open_by_url('https://docs.google.com/spreadsheets/d/1qjjFyZVvxz5rFM2ONFDtkEW3E9zdaNNqJJFUEW3M2tM/edit#gid=2099782212')\n",
        "sheets = gsheets.worksheet('2023').get_all_values()\n",
        "df = pd.DataFrame(sheets[1:], columns=sheets[0])\n",
        "\n",
        "#times1 = list(df['TIME (RTA)'])\n",
        "#times=[]\n",
        "#for i in range(len(times1)):\n",
        "#  if times1[i]=='':\n",
        "#    continue\n",
        "#  if i==19:\n",
        "#    times.append('0:51:57')\n",
        "#  else:\n",
        "#    times.append(times1[i].split('.')[0])\n",
        "\n",
        "#  if len(times[i].split(':'))==2:\n",
        "#    times[i]='0:'+times[i]\n",
        "    \n",
        "#for i in range(len(times)):\n",
        "#  k=sum(map(lambda f: int(f[0])*3600 + int(f[1])*60 + int(f[2]), map(lambda f: f.split(':'), times)))\n",
        "\n",
        "#print('Average RTA for '+str(len(times))+' runs : '+ str(timedelta(seconds=k/len(times))))\n",
        "igt_times1=list(df['TIME (IGT)'])\n",
        "times=[]\n",
        "for i in range(len(igt_times1)):\n",
        "  if igt_times1[i]=='':\n",
        "    continue\n",
        "  if i==0:\n",
        "    times.append('0:51:57')\n",
        "  else:\n",
        "    times.append(igt_times1[i].split('.')[0])\n",
        "  if len(times[i].split(':'))==2:\n",
        "    times[i]='0:'+times[i]\n",
        "\n",
        "\n",
        "for i in range(len(times)):\n",
        "  k=sum(map(lambda f: int(f[0])*3600 + int(f[1])*60 + int(f[2]), map(lambda f: f.split(':'), times)))\n",
        "\n",
        "deaths=list(df['DEATHS'])\n",
        "rods=list(df['RODS'])\n",
        "blazes=list(df['BLAZES'])\n",
        "thrown=list(df['EYES THROWN'])\n",
        "broken=list(df['EYES BROKEN'])\n",
        "death_count=0\n",
        "rod_count=0\n",
        "blaze_count=0\n",
        "thrown_count=0\n",
        "broken_count=0\n",
        "for i in range(len(deaths)):\n",
        "  if deaths[i]=='':\n",
        "    continue\n",
        "  death_count+=int(deaths[i])\n",
        "  rod_count+=int(rods[i])\n",
        "  blaze_count+=int(blazes[i])\n",
        "  thrown_count+=int(thrown[i])\n",
        "  broken_count+=int(broken[i])\n",
        "print('Average IGT for '+str(len(times))+' runs : '+ str(timedelta(seconds=k/len(times))))\n",
        "print(' || Average Deaths for '+str(len(times))+' runs : '+ str(death_count/len(times)))\n",
        "print(' || Average Blaze rates for '+str(len(times))+' runs : '+ str((rod_count/blaze_count)/len(times)))\n",
        "print(' || Average Eye break rate for '+str(len(times))+' runs : '+ str((broken_count/thrown_count)/len(times)))\n",
        "#print(len(times))"
      ],
      "metadata": {
        "colab": {
          "base_uri": "https://localhost:8080/"
        },
        "id": "Dy4Ch6r-0GnJ",
        "outputId": "42b13ac3-fd54-4499-a324-2720298e0331"
      },
      "execution_count": 2,
      "outputs": [
        {
          "output_type": "stream",
          "name": "stdout",
          "text": [
            "Average IGT for 26 runs : 0:38:57.500000\n",
            " || Average Deaths for 26 runs : 0.6153846153846154\n",
            " || Average Blaze rates for 26 runs : 0.0200387847446671\n",
            " || Average Eye break rate for 26 runs : 0.005398110661268556\n"
          ]
        }
      ]
    }
  ]
}