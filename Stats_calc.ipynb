{
  "nbformat": 4,
  "nbformat_minor": 0,
  "metadata": {
    "colab": {
      "provenance": [],
      "mount_file_id": "19YfRA3gHCpb3Dhm3WapuHwozAo24fSJJ",
      "authorship_tag": "ABX9TyM3hp86AwHGUlH+3K0isUbE",
      "include_colab_link": true
    },
    "kernelspec": {
      "name": "python3",
      "display_name": "Python 3"
    },
    "language_info": {
      "name": "python"
    }
  },
  "cells": [
    {
      "cell_type": "markdown",
      "metadata": {
        "id": "view-in-github",
        "colab_type": "text"
      },
      "source": [
        "<a href=\"https://colab.research.google.com/github/dexter1998wild/Stats/blob/main/Stats_calc.ipynb\" target=\"_parent\"><img src=\"https://colab.research.google.com/assets/colab-badge.svg\" alt=\"Open In Colab\"/></a>"
      ]
    },
    {
      "cell_type": "markdown",
      "source": [
        "# **President_Poundcake Stats**"
      ],
      "metadata": {
        "id": "slniCWzBwAhz"
      }
    },
    {
      "cell_type": "code",
      "source": [
        "from datetime import timedelta\n",
        "from google.colab import auth\n",
        "auth.authenticate_user()\n",
        "import gspread\n",
        "import pandas as pd\n",
        "from google.auth import default\n",
        "creds, _ = default()\n",
        "\n",
        "gc = gspread.authorize(creds)\n",
        "gsheets = gc.open_by_url('https://docs.google.com/spreadsheets/d/1qjjFyZVvxz5rFM2ONFDtkEW3E9zdaNNqJJFUEW3M2tM/edit#gid=2099782212')\n",
        "sheets = gsheets.worksheet('2023').get_all_values()\n",
        "df = pd.DataFrame(sheets[1:], columns=sheets[0])\n",
        "\n",
        "times1 = list(df['TIME (RTA)'])\n",
        "times=[]\n",
        "for i in range(len(times1)):\n",
        "  if times1[i]=='' or i==100:\n",
        "    continue\n",
        "  if i==19:\n",
        "    times.append('0:51:57')\n",
        "  else:\n",
        "    times.append(times1[i].split('.')[0])\n",
        "  if len(times[i].split(':'))==2:\n",
        "    times[i]='0:'+times[i]\n",
        "    \n",
        "\n",
        "k=sum(map(lambda f: int(f[0])*3600 + int(f[1])*60 + int(f[2]), map(lambda f: f.split(':'), times)))\n",
        "\n",
        "print('Average RTA for '+str(len(times))+' runs : '+ str(timedelta(seconds=k/len(times))))\n",
        "igt_times1=list(df['TIME (IGT)'])\n",
        "times=[]\n",
        "\n",
        "for i in range(len(igt_times1)):\n",
        "  if igt_times1[i]=='' or i==100:\n",
        "    continue\n",
        "  if i==0:\n",
        "    times.append('0:51:57')\n",
        "  else:\n",
        "    times.append(igt_times1[i].split('.')[0])\n",
        "  \n",
        "  if len(times[i].split(':'))==2:\n",
        "    times[i]='0:'+times[i]\n",
        "\n",
        "\n",
        "k=sum(map(lambda f: int(f[0])*3600 + int(f[1])*60 + int(f[2]), map(lambda f: f.split(':'), times)))\n",
        "\n",
        "deaths=list(df['DEATHS'])\n",
        "rods=list(df['RODS'])\n",
        "blazes=list(df['BLAZES'])\n",
        "thrown=list(df['EYES THROWN'])\n",
        "broken=list(df['EYES BROKEN'])\n",
        "death_count=0\n",
        "rod_count=0\n",
        "blaze_count=0\n",
        "thrown_count=0\n",
        "broken_count=0\n",
        "for i in range(len(deaths)):\n",
        "  if deaths[i]=='' or rods[i]=='' or i==100:\n",
        "    continue\n",
        "  if thrown[i]=='':\n",
        "    thrown[i]=1\n",
        "  death_count+=int(deaths[i])\n",
        "  rod_count+=int(rods[i])\n",
        "  blaze_count+=int(blazes[i])\n",
        "  thrown_count+=int(thrown[i])\n",
        "  broken_count+=int(broken[i])\n",
        "print('Average IGT for '+str(len(times))+' runs : '+ str(timedelta(seconds=k/len(times))))\n",
        "print(' || Average Deaths for '+str(len(times))+' runs : '+ str(death_count/len(times)))\n",
        "print(' || Average Blaze rates for '+str(len(times))+' runs : '+ str(round(((rod_count)/(blaze_count)),4)*100)+'%')\n",
        "print(' || Average Eye break rate for '+str(len(times))+' runs : '+ str(round((broken_count/thrown_count),2)*100)+'%')\n"
      ],
      "metadata": {
        "colab": {
          "base_uri": "https://localhost:8080/"
        },
        "id": "Dy4Ch6r-0GnJ",
        "outputId": "e5eb06da-b2ac-411b-afa4-22f422cc7956"
      },
      "execution_count": null,
      "outputs": [
        {
          "output_type": "stream",
          "name": "stdout",
          "text": [
            "Average RTA for 52 runs : 1:06:34.480769\n",
            "Average IGT for 52 runs : 0:38:45.826923\n",
            " || Average Deaths for 52 runs : 0.5384615384615384\n",
            " || Average Blaze rates for 52 runs : 48.97%\n",
            " || Average Eye break rate for 52 runs : 17.0%\n"
          ]
        }
      ]
    },
    {
      "cell_type": "markdown",
      "source": [
        "# **PodX12 Stats**"
      ],
      "metadata": {
        "id": "adhDqlAywLcR"
      }
    },
    {
      "cell_type": "code",
      "source": [
        "from datetime import timedelta\n",
        "from google.colab import auth\n",
        "auth.authenticate_user()\n",
        "import gspread\n",
        "import pandas as pd\n",
        "from google.auth import default\n",
        "creds, _ = default()\n",
        "\n",
        "gc = gspread.authorize(creds)\n",
        "gsheets = gc.open_by_url('https://docs.google.com/spreadsheets/d/1vCcApZK2EVmAmpxkFGzFs9Ys76zHXCa61U5gkSzZNWs/edit#gid=0')\n",
        "sheets = gsheets.worksheet('Sheet1').get_all_values()\n",
        "df = pd.DataFrame(sheets[1:], columns=sheets[0])\n",
        "\n",
        "\n",
        "igt_times1=list(df['Time'])\n",
        "\n",
        "times=[]\n",
        "for i in range(len(igt_times1)):\n",
        "  if igt_times1[i]=='':\n",
        "    continue\n",
        "  if i==0:\n",
        "    \n",
        "    continue\n",
        "  else:\n",
        "    times.append(igt_times1[i])\n",
        "   \n",
        "for i in range(len(times)):\n",
        "  if len(times[i].split(':'))<=2:\n",
        "    times[i]='0:'+times[i]\n",
        "\n",
        "\n",
        "\n",
        "k=sum(map(lambda f: int(f[0])*3600 + int(f[1])*60 + int(f[2]), map(lambda f: f.split(':'), times)))\n",
        "print('Average IGT for '+str(len(times)+47)+' runs : '+ str(timedelta(seconds=k/len(times))))"
      ],
      "metadata": {
        "colab": {
          "base_uri": "https://localhost:8080/"
        },
        "id": "Tq8aU8xNeWU0",
        "outputId": "78f97c4b-8b4d-46a3-a98f-c616e14d2344"
      },
      "execution_count": null,
      "outputs": [
        {
          "output_type": "stream",
          "name": "stdout",
          "text": [
            "Average IGT for 257 runs : 0:17:40.047619\n"
          ]
        }
      ]
    },
    {
      "cell_type": "code",
      "source": [
        "#@title Speedrunathon Stats\n",
        "from datetime import timedelta\n",
        "from google.colab import auth\n",
        "auth.authenticate_user()\n",
        "import gspread\n",
        "import pandas as pd\n",
        "from google.auth import default\n",
        "creds, _ = default()\n",
        "\n",
        "gc = gspread.authorize(creds)\n",
        "gsheets = gc.open_by_url('https://docs.google.com/spreadsheets/d/1byTE61ncZE8wW4rI4nMiBiAQaHSjDbNqsU0GfMcncGM/edit#gid=0')\n",
        "sheets = gsheets.worksheet('Runs').get_all_values()\n",
        "df = pd.DataFrame(sheets[1:], columns=sheets[0])\n",
        "#print(df)\n",
        "#times1 = list(df['TIME (RTA)'])\n",
        "#times=[]\n",
        "#for i in range(len(times1)):\n",
        "#  if times1[i]=='':\n",
        "#    continue\n",
        "#  if i==19:\n",
        "#    times.append('0:51:57')\n",
        "#  else:\n",
        "#    times.append(times1[i].split('.')[0])\n",
        "\n",
        "#  if len(times[i].split(':'))==2:\n",
        "#    times[i]='0:'+times[i]\n",
        "    \n",
        "#for i in range(len(times)):\n",
        "#  k=sum(map(lambda f: int(f[0])*3600 + int(f[1])*60 + int(f[2]), map(lambda f: f.split(':'), times)))\n",
        "\n",
        "#print('Average RTA for '+str(len(times))+' runs : '+ str(timedelta(seconds=k/len(times))))\n",
        "igt_times1=list(df['Time'])\n",
        "#print(igt_times1)\n",
        "times=[]\n",
        "for i in range(len(igt_times1)):\n",
        "  if igt_times1[i]=='':\n",
        "    continue\n",
        "  #if i==0:\n",
        "    #times.append('0:51:57')\n",
        "    #continue\n",
        "  #else:\n",
        "  times.append(igt_times1[i])\n",
        "   # print(times[i].split(':'))\n",
        "for i in range(len(times)):\n",
        "  if len(times[i].split(':'))<=2:\n",
        "    times[i]='0:'+times[i]\n",
        "\n",
        "\n",
        "k=sum(map(lambda f: int(f[0])*3600 + int(f[1])*60 + int(f[2]), map(lambda f: f.split(':'), times)))\n",
        "print('Average IGT for '+str(len(times))+' runs : '+ str(timedelta(seconds=k/len(times))))\n",
        "\n",
        "blaze_rate=df['Blaze Rates']\n",
        "rods=0\n",
        "blazes=0\n",
        "#print(blaze_rate[112].split('/')[0])\n",
        "for i in range(len(blaze_rate)):\n",
        "  if blaze_rate[i]=='':\n",
        "    continue\n",
        "  if blaze_rate[i]=='AA':\n",
        "    continue\n",
        "  rods+=int(blaze_rate[i].split('/')[0])\n",
        "  blazes+=int(blaze_rate[i].split('/')[1])\n",
        "print('Speedrunathon rod rates: '+str(rods/blazes))"
      ],
      "metadata": {
        "colab": {
          "base_uri": "https://localhost:8080/"
        },
        "id": "EudUX1nEN8ei",
        "outputId": "cc49f436-ff5b-4d45-d1a1-a7b92c772ee6",
        "cellView": "form"
      },
      "execution_count": null,
      "outputs": [
        {
          "output_type": "stream",
          "name": "stdout",
          "text": [
            "Average IGT for 170 runs : 0:34:16.141176\n",
            "Speedrunathon rod rates: 0.4951415293620617\n"
          ]
        }
      ]
    },
    {
      "cell_type": "code",
      "source": [
        "from datetime import timedelta\n",
        "from google.colab import auth\n",
        "auth.authenticate_user()\n",
        "import gspread\n",
        "import pandas as pd\n",
        "from google.auth import default\n",
        "creds, _ = default()\n",
        "\n",
        "gc = gspread.authorize(creds)\n",
        "gsheets = gc.open_by_url('https://docs.google.com/spreadsheets/d/1vCcApZK2EVmAmpxkFGzFs9Ys76zHXCa61U5gkSzZNWs/edit#gid=0')\n",
        "sheets = gsheets.worksheet('Sheet1').get_all_values()\n",
        "df = pd.DataFrame(sheets[1:], columns=sheets[0])\n",
        "\n",
        "run_number=df['Run Counter']\n",
        "max_run_number=0\n",
        "\n",
        "igt_times1=list(df['Time'])\n",
        "dates_played=df['Date']\n",
        "dates=[]\n",
        "for i in range(len(dates_played)):\n",
        "  if dates_played[i]!='':\n",
        "    dates.append([i,dates_played[i]])\n",
        "\n",
        "runs_per_day=[i[0] for i in dates]\n",
        "date = [i[1] for i in dates]\n",
        "\n",
        "for i in range(len(runs_per_day)-1):\n",
        "  times=[]\n",
        "  \n",
        "  for j in range(runs_per_day[i],runs_per_day[i+1]):\n",
        "    #print(igt_times1[j])\n",
        "    #print(run_number[j])\n",
        "    \n",
        "    if igt_times1[j]=='':\n",
        "      continue\n",
        "    if j==0:\n",
        "      #times.append('0:51:57')\n",
        "      continue\n",
        "    else:\n",
        "      times.append(igt_times1[j])\n",
        "      max_run_number=run_number[j]\n",
        "      \n",
        "  for k in range(len(times)):\n",
        "    if len(times[k].split(':'))<=2:\n",
        "      times[k]='0:'+times[k]\n",
        "\n",
        "  #print(times)\n",
        "  l=sum(map(lambda f: int(f[0])*3600 + int(f[1])*60 + int(f[2]), map(lambda f: f.split(':'), times)))\n",
        "  print('Average IGT for '+str(len(times)) +' runs on '+date[i]+' : '+ str(timedelta(seconds=l/len(times))))\n",
        "print(\"Latest Run Number: \"+str(max_run_number))\n"
      ],
      "metadata": {
        "colab": {
          "base_uri": "https://localhost:8080/"
        },
        "id": "2iUtcTojg1ra",
        "outputId": "2321414c-1f75-4884-94bc-b0dbbbacb01c"
      },
      "execution_count": 14,
      "outputs": [
        {
          "output_type": "stream",
          "name": "stdout",
          "text": [
            "Average IGT for 10 runs on 2023-03-21 : 0:18:32.900000\n",
            "Average IGT for 10 runs on 2023-03-22 : 0:18:00.400000\n",
            "Average IGT for 15 runs on 2023-03-23 : 0:18:20.200000\n",
            "Average IGT for 11 runs on 2023-03-24 : 0:16:32.454545\n",
            "Average IGT for 11 runs on 2023-03-26 : 0:17:37.272727\n",
            "Average IGT for 5 runs on 2023-04-08 : 0:18:39\n",
            "Average IGT for 15 runs on 2023-04-10 : 0:17:50.133333\n",
            "Average IGT for 15 runs on 2023-04-11 : 0:17:22.800000\n",
            "Average IGT for 10 runs on 2023-04-12 : 0:17:20.600000\n",
            "Average IGT for 17 runs on 2023-04-13 : 0:18:02.588235\n",
            "Average IGT for 13 runs on 2023-04-14 : 0:17:42.769231\n",
            "Average IGT for 15 runs on 2023-04-15 : 0:17:12.133333\n",
            "Average IGT for 15 runs on 2023-04-16 : 0:17:43.800000\n",
            "Average IGT for 12 runs on 2023-04-20 : 0:17:07.750000\n",
            "Average IGT for 5 runs on 2023-04-21 : 0:18:01.600000\n",
            "Average IGT for 2 runs on 2023-04-22 : 0:17:10.500000\n",
            "Average IGT for 10 runs on 2023-04-23 : 0:17:10.500000\n",
            "Average IGT for 12 runs on 2023-04-24 : 0:17:31.333333\n",
            "Average IGT for 4 runs on 2023-04-25 : 0:18:41.750000\n",
            "Average IGT for 10 runs on 2023-04-26 : 0:17:10.800000\n",
            "Average IGT for 10 runs on 2023-04-27 : 0:17:34.500000\n",
            "Average IGT for 12 runs on 2023-04-28 : 0:17:40.416667\n",
            "Average IGT for 8 runs on 2023-04-29 : 0:17:53.875000\n",
            "Average IGT for 7 runs on 2023-05-01 : 0:17:40.428571\n",
            "Average IGT for 1 runs on 2023-05-02 : 0:19:25\n",
            "Average IGT for 4 runs on 2023-05-03 : 0:18:30\n",
            "Average IGT for 1 runs on 2023-05-05 : 0:19:52\n",
            "Latest Run Number: 307\n"
          ]
        }
      ]
    }
  ]
}