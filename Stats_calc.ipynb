{
  "nbformat": 4,
  "nbformat_minor": 0,
  "metadata": {
    "colab": {
      "provenance": [],
      "mount_file_id": "19YfRA3gHCpb3Dhm3WapuHwozAo24fSJJ",
      "authorship_tag": "ABX9TyMo8D7/O5LmUGPAIuONGY0d",
      "include_colab_link": true
    },
    "kernelspec": {
      "name": "python3",
      "display_name": "Python 3"
    },
    "language_info": {
      "name": "python"
    }
  },
  "cells": [
    {
      "cell_type": "markdown",
      "metadata": {
        "id": "view-in-github",
        "colab_type": "text"
      },
      "source": [
        "<a href=\"https://colab.research.google.com/github/dexter1998wild/Poundcake-stats/blob/main/Stats_calc.ipynb\" target=\"_parent\"><img src=\"https://colab.research.google.com/assets/colab-badge.svg\" alt=\"Open In Colab\"/></a>"
      ]
    },
    {
      "cell_type": "markdown",
      "source": [
        "# **President_Poundcake Stats**"
      ],
      "metadata": {
        "id": "slniCWzBwAhz"
      }
    },
    {
      "cell_type": "code",
      "source": [
        "from datetime import timedelta\n",
        "from google.colab import auth\n",
        "auth.authenticate_user()\n",
        "import gspread\n",
        "import pandas as pd\n",
        "from google.auth import default\n",
        "creds, _ = default()\n",
        "\n",
        "gc = gspread.authorize(creds)\n",
        "gsheets = gc.open_by_url('https://docs.google.com/spreadsheets/d/1qjjFyZVvxz5rFM2ONFDtkEW3E9zdaNNqJJFUEW3M2tM/edit#gid=2099782212')\n",
        "sheets = gsheets.worksheet('2023').get_all_values()\n",
        "df = pd.DataFrame(sheets[1:], columns=sheets[0])\n",
        "\n",
        "#times1 = list(df['TIME (RTA)'])\n",
        "#times=[]\n",
        "#for i in range(len(times1)):\n",
        "#  if times1[i]=='':\n",
        "#    continue\n",
        "#  if i==19:\n",
        "#    times.append('0:51:57')\n",
        "#  else:\n",
        "#    times.append(times1[i].split('.')[0])\n",
        "\n",
        "#  if len(times[i].split(':'))==2:\n",
        "#    times[i]='0:'+times[i]\n",
        "    \n",
        "#for i in range(len(times)):\n",
        "#  k=sum(map(lambda f: int(f[0])*3600 + int(f[1])*60 + int(f[2]), map(lambda f: f.split(':'), times)))\n",
        "\n",
        "#print('Average RTA for '+str(len(times))+' runs : '+ str(timedelta(seconds=k/len(times))))\n",
        "igt_times1=list(df['TIME (IGT)'])\n",
        "times=[]\n",
        "for i in range(len(igt_times1)):\n",
        "  if igt_times1[i]=='':\n",
        "    continue\n",
        "  if i==0:\n",
        "    times.append('0:51:57')\n",
        "  else:\n",
        "    times.append(igt_times1[i].split('.')[0])\n",
        "  if len(times[i].split(':'))==2:\n",
        "    times[i]='0:'+times[i]\n",
        "\n",
        "\n",
        "for i in range(len(times)):\n",
        "  k=sum(map(lambda f: int(f[0])*3600 + int(f[1])*60 + int(f[2]), map(lambda f: f.split(':'), times)))\n",
        "\n",
        "deaths=list(df['DEATHS'])\n",
        "rods=list(df['RODS'])\n",
        "blazes=list(df['BLAZES'])\n",
        "thrown=list(df['EYES THROWN'])\n",
        "broken=list(df['EYES BROKEN'])\n",
        "death_count=0\n",
        "rod_count=0\n",
        "blaze_count=0\n",
        "thrown_count=0\n",
        "broken_count=0\n",
        "for i in range(len(deaths)):\n",
        "  if deaths[i]=='':\n",
        "    continue\n",
        "  death_count+=int(deaths[i])\n",
        "  rod_count+=int(rods[i])\n",
        "  blaze_count+=int(blazes[i])\n",
        "  thrown_count+=int(thrown[i])\n",
        "  broken_count+=int(broken[i])\n",
        "print('Average IGT for '+str(len(times))+' runs : '+ str(timedelta(seconds=k/len(times))))\n",
        "print(' || Average Deaths for '+str(len(times))+' runs : '+ str(death_count/len(times)))\n",
        "print(' || Average Blaze rates for '+str(len(times))+' runs : '+ str((rod_count/blaze_count)/len(times)))\n",
        "print(' || Average Eye break rate for '+str(len(times))+' runs : '+ str((broken_count/thrown_count)/len(times)))\n",
        "#print(len(times))"
      ],
      "metadata": {
        "colab": {
          "base_uri": "https://localhost:8080/"
        },
        "id": "Dy4Ch6r-0GnJ",
        "outputId": "af288a8d-23c8-4af5-b7d0-9361a3e33820"
      },
      "execution_count": 6,
      "outputs": [
        {
          "output_type": "stream",
          "name": "stdout",
          "text": [
            "Average IGT for 29 runs : 0:39:04.965517\n",
            " || Average Deaths for 29 runs : 0.6206896551724138\n",
            " || Average Blaze rates for 29 runs : 0.017892816815773475\n",
            " || Average Eye break rate for 29 runs : 0.005305039787798409\n"
          ]
        }
      ]
    },
    {
      "cell_type": "markdown",
      "source": [
        "# **PodX12 Stats**"
      ],
      "metadata": {
        "id": "adhDqlAywLcR"
      }
    },
    {
      "cell_type": "code",
      "source": [
        "from datetime import timedelta\n",
        "from google.colab import auth\n",
        "auth.authenticate_user()\n",
        "import gspread\n",
        "import pandas as pd\n",
        "from google.auth import default\n",
        "creds, _ = default()\n",
        "\n",
        "gc = gspread.authorize(creds)\n",
        "gsheets = gc.open_by_url('https://docs.google.com/spreadsheets/d/1vCcApZK2EVmAmpxkFGzFs9Ys76zHXCa61U5gkSzZNWs/edit#gid=0')\n",
        "sheets = gsheets.worksheet('Sheet1').get_all_values()\n",
        "df = pd.DataFrame(sheets[1:], columns=sheets[0])\n",
        "#print(df)\n",
        "#times1 = list(df['TIME (RTA)'])\n",
        "#times=[]\n",
        "#for i in range(len(times1)):\n",
        "#  if times1[i]=='':\n",
        "#    continue\n",
        "#  if i==19:\n",
        "#    times.append('0:51:57')\n",
        "#  else:\n",
        "#    times.append(times1[i].split('.')[0])\n",
        "\n",
        "#  if len(times[i].split(':'))==2:\n",
        "#    times[i]='0:'+times[i]\n",
        "    \n",
        "#for i in range(len(times)):\n",
        "#  k=sum(map(lambda f: int(f[0])*3600 + int(f[1])*60 + int(f[2]), map(lambda f: f.split(':'), times)))\n",
        "\n",
        "#print('Average RTA for '+str(len(times))+' runs : '+ str(timedelta(seconds=k/len(times))))\n",
        "igt_times1=list(df['Time'])\n",
        "#print(igt_times1)\n",
        "times=[]\n",
        "for i in range(len(igt_times1)):\n",
        "  if igt_times1[i]=='':\n",
        "    continue\n",
        "  if i==0:\n",
        "    #times.append('0:51:57')\n",
        "    continue\n",
        "  else:\n",
        "    times.append(igt_times1[i])\n",
        "   # print(times[i].split(':'))\n",
        "for i in range(len(times)):\n",
        "  if len(times[i].split(':'))<=2:\n",
        "    times[i]='0:'+times[i]\n",
        "\n",
        "\n",
        "for i in range(len(times)):\n",
        "  k=sum(map(lambda f: int(f[0])*3600 + int(f[1])*60 + int(f[2]), map(lambda f: f.split(':'), times)))\n",
        "print('Average IGT for '+str(len(times))+' runs : '+ str(timedelta(seconds=k/len(times))))"
      ],
      "metadata": {
        "colab": {
          "base_uri": "https://localhost:8080/"
        },
        "id": "Tq8aU8xNeWU0",
        "outputId": "cdfcba55-8887-47bc-ea45-cd01977fa802"
      },
      "execution_count": 88,
      "outputs": [
        {
          "output_type": "stream",
          "name": "stdout",
          "text": [
            "Average IGT for 13 runs : 0:18:39.923077\n"
          ]
        }
      ]
    },
    {
      "cell_type": "code",
      "source": [
        "dates_played=df['Date']\n",
        "dates=[]\n",
        "for i in range(len(dates_played)):\n",
        "  if dates_played[i]!='':\n",
        "    dates.append([i,dates_played[i]])\n",
        "#print(dates)\n",
        "runs_per_day=[i[0] for i in dates]\n",
        "date = [i[1] for i in dates]\n",
        "#print(date)\n",
        "#print(runs_per_day)\n",
        "#runs_per_day=[1,5,11]\n",
        "for i in range(len(runs_per_day)-1):\n",
        "  times=[]\n",
        "  for j in range(runs_per_day[i],runs_per_day[i+1]):\n",
        "    #print(igt_times1[j])\n",
        "    if igt_times1[j]=='':\n",
        "      continue\n",
        "    if j==0:\n",
        "      #times.append('0:51:57')\n",
        "      continue\n",
        "    else:\n",
        "      times.append(igt_times1[j])\n",
        "  for k in range(len(times)):\n",
        "    if len(times[k].split(':'))<=2:\n",
        "      times[k]='0:'+times[k]\n",
        "\n",
        "  #print(times)\n",
        "  l=sum(map(lambda f: int(f[0])*3600 + int(f[1])*60 + int(f[2]), map(lambda f: f.split(':'), times)))\n",
        "  print('Average IGT for runs on '+date[i]+' : '+ str(timedelta(seconds=l/len(times))))\n",
        "  print()\n"
      ],
      "metadata": {
        "colab": {
          "base_uri": "https://localhost:8080/"
        },
        "id": "2iUtcTojg1ra",
        "outputId": "43c2f1e1-2e6f-4057-ced3-b52e5011d575"
      },
      "execution_count": 89,
      "outputs": [
        {
          "output_type": "stream",
          "name": "stdout",
          "text": [
            "Average IGT for runs on 2023-03-21 : 0:18:32.900000\n",
            "\n",
            "Average IGT for runs on 2023-03-22 : 0:19:03.333333\n",
            "\n"
          ]
        }
      ]
    }
  ]
}